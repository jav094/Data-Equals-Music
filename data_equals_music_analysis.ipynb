{
 "cells": [
  {
   "cell_type": "markdown",
   "metadata": {},
   "source": [
    "## Data == Music\n",
    "-------------\n",
    "A predictive model that can predict how highly rated \n",
    "music will be based on audio characteristics and \n",
    "track information from Spotify!"
   ]
  },
  {
   "cell_type": "markdown",
   "metadata": {},
   "source": [
    "Here's what we're in for\n",
    "\n",
    "* Define X and y\n",
    "* Instantiate a classifier\n",
    "* Fit the model to the data\n",
    "* Predict and evaluate model accuracy\n",
    "* others that I don't remember right now"
   ]
  },
  {
   "cell_type": "code",
   "execution_count": 141,
   "metadata": {
    "collapsed": false
   },
   "outputs": [],
   "source": [
    "# Import and set up ALL THE THINGS!\n",
    "\n",
    "import numpy as np\n",
    "import pandas as pd\n",
    "import pprint\n",
    "pp = pprint.PrettyPrinter(depth=4)\n",
    "\n",
    "import matplotlib as mpl\n",
    "import matplotlib.pyplot as plt\n",
    "%matplotlib inline\n",
    "# matplotlib.rcParams['figure.figsize'] = (20.0, 10.0)\n",
    "matplotlib.rcParams['figure.figsize'] = (12.0, 8.0)\n",
    "\n",
    "import seaborn as sns\n",
    "sns.color_palette(\"muted\")\n",
    "sns.set_style(\"ticks\", {'axes.grid': False,\n",
    "                        'axes.linewidth': 0.5,\n",
    "                       }\n",
    "             )\n",
    "\n",
    "from sklearn import metrics\n",
    "from sklearn.cross_validation import train_test_split, cross_val_score\n",
    "from sklearn.ensemble import RandomForestRegressor\n",
    "\n",
    "from DataEqualsMusic import SpotiAPI"
   ]
  },
  {
   "cell_type": "markdown",
   "metadata": {},
   "source": [
    "Let's recall the steps to making machine learning models:\n",
    "1. Create a feature matrix and response vector (X and y)\n",
    "2. Import an estimator class\n",
    "3. Instantiate that estimator class\n",
    "4. Fit the model with training data\n",
    "5. Use the model to predict a new observation\n",
    "6. Evaluate the model's accuracy\n",
    "7. ???\n",
    "8. PROFIT!\n",
    "\n",
    "We'll be following steps 1-6, then you're on your own."
   ]
  },
  {
   "cell_type": "markdown",
   "metadata": {},
   "source": [
    "First things first, let's get our data from a .csv into a DataFrame.\n",
    "(FYI, you can update the .csv file by running DataEqualsMusic.py.)"
   ]
  },
  {
   "cell_type": "code",
   "execution_count": 47,
   "metadata": {
    "collapsed": false
   },
   "outputs": [
    {
     "data": {
      "text/html": [
       "<div>\n",
       "<table border=\"1\" class=\"dataframe\">\n",
       "  <thead>\n",
       "    <tr style=\"text-align: right;\">\n",
       "      <th></th>\n",
       "      <th>Unnamed: 0</th>\n",
       "      <th>Position</th>\n",
       "      <th>energy</th>\n",
       "      <th>liveness</th>\n",
       "      <th>tempo</th>\n",
       "      <th>speechiness</th>\n",
       "      <th>acousticness</th>\n",
       "      <th>instrumentalness</th>\n",
       "      <th>time_signature</th>\n",
       "      <th>danceability</th>\n",
       "      <th>key</th>\n",
       "      <th>duration_ms</th>\n",
       "      <th>loudness</th>\n",
       "      <th>valence</th>\n",
       "      <th>mode</th>\n",
       "    </tr>\n",
       "  </thead>\n",
       "  <tbody>\n",
       "    <tr>\n",
       "      <th>0</th>\n",
       "      <td>0</td>\n",
       "      <td>1</td>\n",
       "      <td>0.798</td>\n",
       "      <td>0.156</td>\n",
       "      <td>92.943</td>\n",
       "      <td>0.0432</td>\n",
       "      <td>0.0736</td>\n",
       "      <td>0.00000</td>\n",
       "      <td>4.0</td>\n",
       "      <td>0.608</td>\n",
       "      <td>6.0</td>\n",
       "      <td>185352.0</td>\n",
       "      <td>-5.092</td>\n",
       "      <td>0.488</td>\n",
       "      <td>0.0</td>\n",
       "    </tr>\n",
       "    <tr>\n",
       "      <th>1</th>\n",
       "      <td>1</td>\n",
       "      <td>2</td>\n",
       "      <td>0.524</td>\n",
       "      <td>0.111</td>\n",
       "      <td>95.010</td>\n",
       "      <td>0.0338</td>\n",
       "      <td>0.4140</td>\n",
       "      <td>0.00000</td>\n",
       "      <td>4.0</td>\n",
       "      <td>0.748</td>\n",
       "      <td>8.0</td>\n",
       "      <td>244960.0</td>\n",
       "      <td>-5.599</td>\n",
       "      <td>0.635</td>\n",
       "      <td>1.0</td>\n",
       "    </tr>\n",
       "    <tr>\n",
       "      <th>2</th>\n",
       "      <td>2</td>\n",
       "      <td>3</td>\n",
       "      <td>0.718</td>\n",
       "      <td>0.122</td>\n",
       "      <td>199.864</td>\n",
       "      <td>0.0576</td>\n",
       "      <td>0.0784</td>\n",
       "      <td>0.00001</td>\n",
       "      <td>4.0</td>\n",
       "      <td>0.476</td>\n",
       "      <td>8.0</td>\n",
       "      <td>205947.0</td>\n",
       "      <td>-5.309</td>\n",
       "      <td>0.143</td>\n",
       "      <td>1.0</td>\n",
       "    </tr>\n",
       "  </tbody>\n",
       "</table>\n",
       "</div>"
      ],
      "text/plain": [
       "   Unnamed: 0  Position  energy  liveness    tempo  speechiness  acousticness  \\\n",
       "0           0         1   0.798     0.156   92.943       0.0432        0.0736   \n",
       "1           1         2   0.524     0.111   95.010       0.0338        0.4140   \n",
       "2           2         3   0.718     0.122  199.864       0.0576        0.0784   \n",
       "\n",
       "   instrumentalness  time_signature  danceability  key  duration_ms  loudness  \\\n",
       "0           0.00000             4.0         0.608  6.0     185352.0    -5.092   \n",
       "1           0.00000             4.0         0.748  8.0     244960.0    -5.599   \n",
       "2           0.00001             4.0         0.476  8.0     205947.0    -5.309   \n",
       "\n",
       "   valence  mode  \n",
       "0    0.488   0.0  \n",
       "1    0.635   1.0  \n",
       "2    0.143   1.0  "
      ]
     },
     "execution_count": 47,
     "metadata": {},
     "output_type": "execute_result"
    }
   ],
   "source": [
    "file = \"data/modified_spotify_top_200.csv\"\n",
    "df = pd.read_csv(file)\n",
    "\n",
    "# Here's what our data's top 3 rows look\n",
    "df.head(3)"
   ]
  },
  {
   "cell_type": "markdown",
   "metadata": {},
   "source": [
    "## 1. Create a feature matrix and response vector (X and y)"
   ]
  },
  {
   "cell_type": "code",
   "execution_count": 48,
   "metadata": {
    "collapsed": false
   },
   "outputs": [],
   "source": [
    "# Our feature columns are all of them after \"Position\", which is our response variable.\n",
    "feature_cols = df.columns[2:]\n",
    "\n",
    "X = df[feature_cols]\n",
    "y = df.Position"
   ]
  },
  {
   "cell_type": "markdown",
   "metadata": {},
   "source": [
    "Before we really dig in, let's try to visualize any potential relationships in the data.\n",
    "\n",
    "Are there any overall trends we can see right off the bat?"
   ]
  },
  {
   "cell_type": "code",
   "execution_count": 142,
   "metadata": {
    "collapsed": false
   },
   "outputs": [
    {
     "data": {
      "image/png": "[encoded data removed]",
      "text/plain": [
       "<matplotlib.figure.Figure at 0x11d996390>"
      ]
     },
     "metadata": {},
     "output_type": "display_data"
    }
   ],
   "source": [
    "# Let's see if a scatter plot shows us anything.\n",
    "plt.scatter(df[\"energy\"], y)\n",
    "\n",
    "# Set axis limits: energy 0.0 - 1.0, Position 1 - 200\n",
    "plt.axis((0.0,1.0,0,200))\n",
    "\n",
    "# Invert the y axis, we want high ranking to be on top.\n",
    "plt.gca().invert_yaxis()\n",
    "\n",
    "# Vanity\n",
    "sns.despine()\n",
    "\n",
    "plt.show()"
   ]
  },
  {
   "cell_type": "markdown",
   "metadata": {},
   "source": [
    "At least we can see that most of the top 200 tracks tend to be fairly energetic. Let's see where most of them are relative to the others."
   ]
  },
  {
   "cell_type": "code",
   "execution_count": 143,
   "metadata": {
    "collapsed": false
   },
   "outputs": [
    {
     "data": {
      "image/png": "[encoded data removed]",
      "text/plain": [
       "<matplotlib.figure.Figure at 0x11cdd0750>"
      ]
     },
     "metadata": {},
     "output_type": "display_data"
    }
   ],
   "source": [
    "e = df.energy\n",
    "p_25 = np.percentile(e, 25) # Returns 25th percentile of the \"energy\" feature\n",
    "p_50 = np.percentile(e, 50) \n",
    "p_75 = np.percentile(e, 75)\n",
    "\n",
    "# Same plot as before, plus lines for the percentiles\n",
    "plt.scatter(df[\"energy\"], y)\n",
    "plt.axis((0.0,1.0,0,200))\n",
    "plt.gca().invert_yaxis()\n",
    "sns.despine()\n",
    "\n",
    "# Just so we can see them, let's give the lines some colors\n",
    "plt.axvline(x=p_25, color=\"Green\")\n",
    "plt.axvline(x=p_50, color=\"Black\")\n",
    "plt.axvline(x=p_75, color=\"Green\")\n",
    "\n",
    "plt.show()"
   ]
  },
  {
   "cell_type": "code",
   "execution_count": 106,
   "metadata": {
    "collapsed": false
   },
   "outputs": [
    {
     "name": "stdout",
     "output_type": "stream",
     "text": [
      "0.567 0.7 0.77425\n"
     ]
    }
   ],
   "source": [
    "print p_25, p_50, p_75"
   ]
  },
  {
   "cell_type": "markdown",
   "metadata": {},
   "source": [
    "Well well! From this we can see that most tracks are pretty energetic, like we thought. \n",
    "\n",
    "The median energy level is 0.7, which about the norm for artists like Selena Gomez and David Guetta. Before we assume anything though, we should notice that some artists (like Rihanna and Drake) rank highly despite having low-energy songs."
   ]
  },
  {
   "cell_type": "code",
   "execution_count": 144,
   "metadata": {
    "collapsed": false
   },
   "outputs": [
    {
     "data": {
      "image/png": "[encoded data removed]",
      "text/plain": [
       "<matplotlib.figure.Figure at 0x11eee1e10>"
      ]
     },
     "metadata": {},
     "output_type": "display_data"
    }
   ],
   "source": [
    "# Let's try the same for danceability\n",
    "d = df.danceability\n",
    "p_25 = np.percentile(d, 25)\n",
    "p_50 = np.percentile(d, 50) \n",
    "p_75 = np.percentile(d, 75)\n",
    "plt.scatter(df[\"danceability\"], y)\n",
    "plt.axis((0.0,1.0,0,200))\n",
    "plt.gca().invert_yaxis()\n",
    "sns.despine()\n",
    "plt.axvline(x=p_25, color=\"Green\")\n",
    "plt.axvline(x=p_50, color=\"Black\")\n",
    "plt.axvline(x=p_75, color=\"Green\")\n",
    "\n",
    "plt.show()"
   ]
  },
  {
   "cell_type": "code",
   "execution_count": 112,
   "metadata": {
    "collapsed": false
   },
   "outputs": [
    {
     "name": "stdout",
     "output_type": "stream",
     "text": [
      "0.5675 0.68 0.743\n"
     ]
    }
   ],
   "source": [
    "print p_25, p_50, p_75"
   ]
  },
  {
   "cell_type": "markdown",
   "metadata": {},
   "source": [
    "To be honest I'm disappointed that most songs have such low danceability, I expected higher."
   ]
  },
  {
   "cell_type": "code",
   "execution_count": 145,
   "metadata": {
    "collapsed": false
   },
   "outputs": [
    {
     "data": {
      "text/plain": [
       "<matplotlib.axes._subplots.AxesSubplot at 0x11e8a9cd0>"
      ]
     },
     "execution_count": 145,
     "metadata": {},
     "output_type": "execute_result"
    },
    {
     "data": {
      "image/png": "[encoded data removed]",
      "text/plain": [
       "<matplotlib.figure.Figure at 0x11e8d0bd0>"
      ]
     },
     "metadata": {},
     "output_type": "display_data"
    }
   ],
   "source": [
    "# Find out most predictive feature with correlation matrix\n",
    "sns.heatmap(df.corr())"
   ]
  },
  {
   "cell_type": "markdown",
   "metadata": {},
   "source": [
    "A track's Position in the global Top 200 charts seems to be:\n",
    "* Slightly negatively correlated with the track's key\n",
    "* Slightly positively correlated with the track's mode and duration"
   ]
  },
  {
   "cell_type": "code",
   "execution_count": null,
   "metadata": {
    "collapsed": false
   },
   "outputs": [],
   "source": [
    "# train/test split\n",
    "X_train, X_test, y_train, y_test = train_test_split(X, y, random_state=1)"
   ]
  },
  {
   "cell_type": "code",
   "execution_count": null,
   "metadata": {
    "collapsed": false
   },
   "outputs": [],
   "source": [
    "# Let's take a look at the shape of our data.\n",
    "print X.shape # 200,14. Makes sense; 200 rows and 14 features.\n",
    "print y.shape # 200,\n",
    "\n",
    "print X_train.shape # 150, 14\n",
    "print X_test.shape # 50, 14\n",
    "print y_train.shape # 150,\n",
    "print y_test.shape # 50,"
   ]
  },
  {
   "cell_type": "markdown",
   "metadata": {
    "collapsed": false
   },
   "source": [
    "It is at this point that I attempted to make a logistic regression model, fit it to the data, and make predictions with it. \n",
    "\n",
    "However, that turned out to be incredibly non-predictive so I scrapped it. \n",
    "\n",
    "Unfortunately, I didn't keep a copy for posterity so we're just going to move on to a model that should perform better: RandomForestRegressor!"
   ]
  },
  {
   "cell_type": "code",
   "execution_count": null,
   "metadata": {
    "collapsed": true
   },
   "outputs": [],
   "source": [
    "# Moment of truth; let's see how accurate our logistic regression model is at predicting a track's Position\n"
   ]
  },
  {
   "cell_type": "code",
   "execution_count": null,
   "metadata": {
    "collapsed": true
   },
   "outputs": [],
   "source": [
    "# We can probably do better, let's tune the model a bit and see where that gets us.\n",
    "\n"
   ]
  },
  {
   "cell_type": "code",
   "execution_count": null,
   "metadata": {
    "collapsed": false
   },
   "outputs": [],
   "source": [
    "# Let's try with a more thorough model using a Random Forest Classifier.\n",
    "\n",
    "\n",
    "# calculate cross-validated AUC\n",
    "\n",
    "# cv=3\n",
    "score = cross_val_score(logreg, X, y, scoring='roc_auc').mean()\n",
    "print score\n",
    "\n",
    "\n",
    "\n",
    "# Gauge accuracy (with simple metrics for now)\n",
    "\n",
    "# make prediction for testing dataset, then check its accuracy.\n",
    "y_pred_class = logreg.predict(X_test)\n",
    "print metrics.accuracy_score(y_test, y_pred_class)\n",
    "\n",
    "# calculate AUC\n",
    "print metrics.roc_auc_score(y_test, y_pred_prob)"
   ]
  },
  {
   "cell_type": "code",
   "execution_count": null,
   "metadata": {
    "collapsed": true
   },
   "outputs": [],
   "source": [
    "#create and train the random forest\n",
    "#multi-core CPUs can use: rf = RandomForestClassifier(n_estimators=100, n_jobs=2)\n",
    "rf = RandomForestClassifier(n_estimators=100)\n",
    "\n",
    "X_train, X_test, y_train, y_test\n",
    "rf.fit(train, target)"
   ]
  }
 ],
 "metadata": {
  "kernelspec": {
   "display_name": "Python [Root]",
   "language": "python",
   "name": "Python [Root]"
  },
  "language_info": {
   "codemirror_mode": {
    "name": "ipython",
    "version": 2
   },
   "file_extension": ".py",
   "mimetype": "text/x-python",
   "name": "python",
   "nbconvert_exporter": "python",
   "pygments_lexer": "ipython2",
   "version": "2.7.12"
  }
 },
 "nbformat": 4,
 "nbformat_minor": 0
}
