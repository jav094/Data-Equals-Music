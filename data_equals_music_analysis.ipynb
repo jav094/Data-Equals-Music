{
 "cells": [
  {
   "cell_type": "markdown",
   "metadata": {},
   "source": [
    "## Data == Music\n",
    "-------------\n",
    "A predictive model that can predict how highly rated \n",
    "music will be based on audio characteristics and \n",
    "track information from Spotify!"
   ]
  },
  {
   "cell_type": "markdown",
   "metadata": {},
   "source": [
    "Let's recall the steps to making a machine learning model:\n",
    "1. Create a feature matrix and response vector (X and y)\n",
    "2. Import an estimator class\n",
    "3. Instantiate that estimator class\n",
    "4. Fit the model with training data\n",
    "5. Use the model to predict a new observation\n",
    "6. Evaluate the model's accuracy\n",
    "7. ???\n",
    "8. PROFIT!\n",
    "\n",
    "We'll be covering steps 1-6."
   ]
  },
  {
   "cell_type": "markdown",
   "metadata": {},
   "source": [
    "First we'll import and set up all the packages we'll be using."
   ]
  },
  {
   "cell_type": "code",
   "execution_count": 28,
   "metadata": {
    "collapsed": false
   },
   "outputs": [],
   "source": [
    "import numpy as np\n",
    "import pandas as pd\n",
    "\n",
    "import matplotlib.pyplot as plt \n",
    "%matplotlib inline \n",
    "plt.rcParams['figure.figsize'] = (12.0, 8.0)\n",
    "\n",
    "import seaborn as sns\n",
    "sns.color_palette(\"muted\")\n",
    "sns.set_style(\"ticks\", {'axes.grid': False,\n",
    "                        'axes.linewidth': 0.5,\n",
    "                       }\n",
    "             )\n",
    "\n",
    "from sklearn import metrics\n",
    "from sklearn.cross_validation import train_test_split, cross_val_score\n",
    "from sklearn.ensemble import RandomForestRegressor\n",
    "\n",
    "from DataEqualsMusic import SpotiAPI"
   ]
  },
  {
   "cell_type": "markdown",
   "metadata": {},
   "source": [
    "Now let's get our data from a .csv into a DataFrame.\n",
    "(FYI, you can update the .csv file by running DataEqualsMusic.py.)"
   ]
  },
  {
   "cell_type": "code",
   "execution_count": 29,
   "metadata": {
    "collapsed": false
   },
   "outputs": [
    {
     "data": {
      "text/html": [
       "<div>\n",
       "<table border=\"1\" class=\"dataframe\">\n",
       "  <thead>\n",
       "    <tr style=\"text-align: right;\">\n",
       "      <th></th>\n",
       "      <th>Position</th>\n",
       "      <th>energy</th>\n",
       "      <th>liveness</th>\n",
       "      <th>tempo</th>\n",
       "      <th>speechiness</th>\n",
       "      <th>acousticness</th>\n",
       "      <th>instrumentalness</th>\n",
       "      <th>time_signature</th>\n",
       "      <th>danceability</th>\n",
       "      <th>key</th>\n",
       "      <th>duration_ms</th>\n",
       "      <th>loudness</th>\n",
       "      <th>valence</th>\n",
       "      <th>mode</th>\n",
       "    </tr>\n",
       "  </thead>\n",
       "  <tbody>\n",
       "    <tr>\n",
       "      <th>0</th>\n",
       "      <td>1</td>\n",
       "      <td>0.798</td>\n",
       "      <td>0.156</td>\n",
       "      <td>92.943</td>\n",
       "      <td>0.0432</td>\n",
       "      <td>0.0736</td>\n",
       "      <td>0.00000</td>\n",
       "      <td>4.0</td>\n",
       "      <td>0.608</td>\n",
       "      <td>6.0</td>\n",
       "      <td>185352.0</td>\n",
       "      <td>-5.092</td>\n",
       "      <td>0.488</td>\n",
       "      <td>0.0</td>\n",
       "    </tr>\n",
       "    <tr>\n",
       "      <th>1</th>\n",
       "      <td>2</td>\n",
       "      <td>0.524</td>\n",
       "      <td>0.111</td>\n",
       "      <td>95.010</td>\n",
       "      <td>0.0338</td>\n",
       "      <td>0.4140</td>\n",
       "      <td>0.00000</td>\n",
       "      <td>4.0</td>\n",
       "      <td>0.748</td>\n",
       "      <td>8.0</td>\n",
       "      <td>244960.0</td>\n",
       "      <td>-5.599</td>\n",
       "      <td>0.635</td>\n",
       "      <td>1.0</td>\n",
       "    </tr>\n",
       "    <tr>\n",
       "      <th>2</th>\n",
       "      <td>3</td>\n",
       "      <td>0.718</td>\n",
       "      <td>0.122</td>\n",
       "      <td>199.864</td>\n",
       "      <td>0.0576</td>\n",
       "      <td>0.0784</td>\n",
       "      <td>0.00001</td>\n",
       "      <td>4.0</td>\n",
       "      <td>0.476</td>\n",
       "      <td>8.0</td>\n",
       "      <td>205947.0</td>\n",
       "      <td>-5.309</td>\n",
       "      <td>0.143</td>\n",
       "      <td>1.0</td>\n",
       "    </tr>\n",
       "  </tbody>\n",
       "</table>\n",
       "</div>"
      ],
      "text/plain": [
       "   Position  energy  liveness    tempo  speechiness  acousticness  \\\n",
       "0         1   0.798     0.156   92.943       0.0432        0.0736   \n",
       "1         2   0.524     0.111   95.010       0.0338        0.4140   \n",
       "2         3   0.718     0.122  199.864       0.0576        0.0784   \n",
       "\n",
       "   instrumentalness  time_signature  danceability  key  duration_ms  loudness  \\\n",
       "0           0.00000             4.0         0.608  6.0     185352.0    -5.092   \n",
       "1           0.00000             4.0         0.748  8.0     244960.0    -5.599   \n",
       "2           0.00001             4.0         0.476  8.0     205947.0    -5.309   \n",
       "\n",
       "   valence  mode  \n",
       "0    0.488   0.0  \n",
       "1    0.635   1.0  \n",
       "2    0.143   1.0  "
      ]
     },
     "execution_count": 29,
     "metadata": {},
     "output_type": "execute_result"
    }
   ],
   "source": [
    "file = \"data/modified_spotify_top_200.csv\"\n",
    "df = pd.read_csv(file, index_col=0)\n",
    "\n",
    "# Let's take a look at our data's top 3 entries.\n",
    "df.head(3)"
   ]
  },
  {
   "cell_type": "code",
   "execution_count": 30,
   "metadata": {
    "collapsed": false
   },
   "outputs": [],
   "source": [
    "# Our feature columns are everything after \"Position\", which is our response variable.\n",
    "feature_cols = df.columns[1:]\n",
    "\n",
    "X = df[feature_cols]\n",
    "y = df.Position"
   ]
  },
  {
   "cell_type": "markdown",
   "metadata": {},
   "source": [
    "Before we really dig in to the analysis, let's try to visualize any potential relationships in the data.\n",
    "\n",
    "Are there any overall trends we can see right off the bat?"
   ]
  },
  {
   "cell_type": "code",
   "execution_count": 48,
   "metadata": {
    "collapsed": false
   },
   "outputs": [
    {
     "data": {
      "image/png": "[encoded data removed]",
      "text/plain": [
       "<matplotlib.figure.Figure at 0x117fc4590>"
      ]
     },
     "metadata": {},
     "output_type": "display_data"
    }
   ],
   "source": [
    "# Let's see if a scatter plot shows us anything.\n",
    "plt.scatter(df[\"energy\"], y)\n",
    "plt.xlabel(\"Energy\")\n",
    "plt.ylabel(\"Position\")\n",
    "\n",
    "# Set axis limits. The 'energy' feature ranges from 0.0 - 1.0.\n",
    "# Position ranges from 1 - 200.\n",
    "plt.axis((0.0,1.0,0,200))\n",
    "\n",
    "# Invert the y axis (to show rank improving along the y-axis).\n",
    "plt.gca().invert_yaxis()\n",
    "\n",
    "# Vanity.\n",
    "sns.despine()\n",
    "\n",
    "plt.show()"
   ]
  },
  {
   "cell_type": "markdown",
   "metadata": {},
   "source": [
    "At least we can see that most of the top 200 tracks tend to be fairly energetic. Let's see where most of them are relative to the others."
   ]
  },
  {
   "cell_type": "code",
   "execution_count": 47,
   "metadata": {
    "collapsed": false
   },
   "outputs": [
    {
     "data": {
      "image/png": "[encoded data removed]",
      "text/plain": [
       "<matplotlib.figure.Figure at 0x11d6c8890>"
      ]
     },
     "metadata": {},
     "output_type": "display_data"
    }
   ],
   "source": [
    "e = df.energy\n",
    "plt.xlabel(\"Energy\")\n",
    "plt.ylabel(\"Position\")\n",
    "p_25 = np.percentile(e, 25) # Returns 25th percentile of the \"energy\" feature\n",
    "p_50 = np.percentile(e, 50) \n",
    "p_75 = np.percentile(e, 75)\n",
    "\n",
    "# Same plot as before, plus lines for the percentiles\n",
    "plt.scatter(df[\"energy\"], y)\n",
    "plt.axis((0.0,1.0,0,200))\n",
    "plt.gca().invert_yaxis()\n",
    "sns.despine()\n",
    "\n",
    "# Just so we can see them, let's give the lines some colors\n",
    "plt.axvline(x=p_25, color=\"Green\")\n",
    "plt.axvline(x=p_50, color=\"Black\")\n",
    "plt.axvline(x=p_75, color=\"Green\")\n",
    "\n",
    "plt.show()"
   ]
  },
  {
   "cell_type": "code",
   "execution_count": 14,
   "metadata": {
    "collapsed": false
   },
   "outputs": [
    {
     "name": "stdout",
     "output_type": "stream",
     "text": [
      "0.567 0.7 0.77425\n"
     ]
    }
   ],
   "source": [
    "print p_25, p_50, p_75"
   ]
  },
  {
   "cell_type": "markdown",
   "metadata": {},
   "source": [
    "Well well! From this we can see that most tracks are pretty energetic, like we thought. \n",
    "\n",
    "The median energy level is 0.7, which about the norm for artists like Selena Gomez and David Guetta. Before we assume anything though, we should notice that some artists (like Rihanna and Drake) rank highly despite having low-energy songs."
   ]
  },
  {
   "cell_type": "code",
   "execution_count": 46,
   "metadata": {
    "collapsed": false
   },
   "outputs": [
    {
     "data": {
      "image/png": "[encoded data removed]",
      "text/plain": [
       "<matplotlib.figure.Figure at 0x11d6bed50>"
      ]
     },
     "metadata": {},
     "output_type": "display_data"
    }
   ],
   "source": [
    "# Let's try the same for danceability\n",
    "plt.xlabel(\"Danceability\")\n",
    "plt.ylabel(\"Position\")\n",
    "d = df.danceability\n",
    "p_25 = np.percentile(d, 25)\n",
    "p_50 = np.percentile(d, 50) \n",
    "p_75 = np.percentile(d, 75)\n",
    "plt.scatter(df[\"danceability\"], y)\n",
    "plt.axis((0.0,1.0,0,200))\n",
    "plt.gca().invert_yaxis()\n",
    "sns.despine()\n",
    "plt.axvline(x=p_25, color=\"Green\")\n",
    "plt.axvline(x=p_50, color=\"Black\")\n",
    "plt.axvline(x=p_75, color=\"Green\")\n",
    "\n",
    "plt.show()"
   ]
  },
  {
   "cell_type": "code",
   "execution_count": 16,
   "metadata": {
    "collapsed": false
   },
   "outputs": [
    {
     "name": "stdout",
     "output_type": "stream",
     "text": [
      "0.5675 0.68 0.743\n"
     ]
    }
   ],
   "source": [
    "print p_25, p_50, p_75"
   ]
  },
  {
   "cell_type": "markdown",
   "metadata": {},
   "source": [
    "To be honest I'm disappointed that most songs have such low danceability, I expected higher."
   ]
  },
  {
   "cell_type": "code",
   "execution_count": 44,
   "metadata": {
    "collapsed": false
   },
   "outputs": [
    {
     "data": {
      "text/plain": [
       "<matplotlib.axes._subplots.AxesSubplot at 0x11d187f10>"
      ]
     },
     "execution_count": 44,
     "metadata": {},
     "output_type": "execute_result"
    },
    {
     "data": {
      "image/png": "[encoded data removed]",
      "text/plain": [
       "<matplotlib.figure.Figure at 0x11ce6ddd0>"
      ]
     },
     "metadata": {},
     "output_type": "display_data"
    }
   ],
   "source": [
    "# Find out how predictive features are with a correlation heatmap.\n",
    "plt.title(\"Correlations\")\n",
    "sns.heatmap(df.corr())"
   ]
  },
  {
   "cell_type": "markdown",
   "metadata": {},
   "source": [
    "A track's Position in the global Top 200 charts seems to be:\n",
    "* Slightly negatively correlated with the track's key\n",
    "* Slightly positively correlated with the track's mode and duration"
   ]
  },
  {
   "cell_type": "markdown",
   "metadata": {},
   "source": [
    "## 1. Create a feature matrix and response vector (X and y)"
   ]
  },
  {
   "cell_type": "code",
   "execution_count": 34,
   "metadata": {
    "collapsed": true
   },
   "outputs": [],
   "source": [
    "# Our feature columns are everything after \"Position\", which is our response variable.\n",
    "feature_cols = df.columns[2:]\n",
    "\n",
    "X = df[feature_cols]\n",
    "y = df.Position"
   ]
  },
  {
   "cell_type": "code",
   "execution_count": 35,
   "metadata": {
    "collapsed": false
   },
   "outputs": [],
   "source": [
    "# train/test split\n",
    "X_train, X_test, y_train, y_test = train_test_split(X, y, random_state=1)"
   ]
  },
  {
   "cell_type": "code",
   "execution_count": 36,
   "metadata": {
    "collapsed": false
   },
   "outputs": [
    {
     "name": "stdout",
     "output_type": "stream",
     "text": [
      "(200, 12)\n",
      "(200,)\n",
      "(150, 12)\n",
      "(50, 12)\n",
      "(150,)\n",
      "(50,)\n"
     ]
    }
   ],
   "source": [
    "# Let's take a look at the shape of our data.\n",
    "print X.shape # 200,14. Makes sense; 200 rows and 14 features.\n",
    "print y.shape # 200,\n",
    "\n",
    "print X_train.shape # 150, 14\n",
    "print X_test.shape # 50, 14\n",
    "print y_train.shape # 150,\n",
    "print y_test.shape # 50,"
   ]
  },
  {
   "cell_type": "markdown",
   "metadata": {
    "collapsed": false
   },
   "source": [
    "At this point, I attempted to make a logistic regression model, fit it to the data, and make predictions with it. \n",
    "\n",
    "However, that turned out to be _incredibly_ non-predictive so I scrapped it. \n",
    "\n",
    "Unfortunately, I didn't keep a copy for posterity so we're just going to move on to a model that should perform better: RandomForestRegressor!"
   ]
  },
  {
   "cell_type": "markdown",
   "metadata": {},
   "source": [
    "## 2. Import an estimator class"
   ]
  },
  {
   "cell_type": "code",
   "execution_count": 24,
   "metadata": {
    "collapsed": true
   },
   "outputs": [],
   "source": [
    "# Technically, we already did this up top but here it is anyway:\n",
    "from sklearn.ensemble import RandomForestRegressor"
   ]
  },
  {
   "cell_type": "markdown",
   "metadata": {},
   "source": [
    "## 3. Instantiate that estimator class"
   ]
  },
  {
   "cell_type": "code",
   "execution_count": 37,
   "metadata": {
    "collapsed": false
   },
   "outputs": [
    {
     "data": {
      "text/plain": [
       "RandomForestRegressor(bootstrap=True, criterion='mse', max_depth=None,\n",
       "           max_features='auto', max_leaf_nodes=None, min_samples_leaf=1,\n",
       "           min_samples_split=2, min_weight_fraction_leaf=0.0,\n",
       "           n_estimators=10, n_jobs=1, oob_score=False, random_state=1,\n",
       "           verbose=0, warm_start=False)"
      ]
     },
     "execution_count": 37,
     "metadata": {},
     "output_type": "execute_result"
    }
   ],
   "source": [
    "# We'll stick with the default n_estimators=10 for now.\n",
    "# We'll use the same random state throughout this notebook, \n",
    "    # just so that we can be sure no error is due to it.\n",
    "rf = RandomForestRegressor(random_state=1)\n",
    "\n",
    "rf"
   ]
  },
  {
   "cell_type": "markdown",
   "metadata": {},
   "source": [
    "## 4. Fit the model with training data"
   ]
  },
  {
   "cell_type": "code",
   "execution_count": 71,
   "metadata": {
    "collapsed": false
   },
   "outputs": [
    {
     "data": {
      "text/plain": [
       "RandomForestRegressor(bootstrap=True, criterion='mse', max_depth=None,\n",
       "           max_features='auto', max_leaf_nodes=None, min_samples_leaf=1,\n",
       "           min_samples_split=2, min_weight_fraction_leaf=0.0,\n",
       "           n_estimators=10, n_jobs=1, oob_score=False, random_state=1,\n",
       "           verbose=0, warm_start=False)"
      ]
     },
     "execution_count": 71,
     "metadata": {},
     "output_type": "execute_result"
    }
   ],
   "source": [
    "# Fit our model to our training data.\n",
    "rf.fit(X_train, y_train)"
   ]
  },
  {
   "cell_type": "markdown",
   "metadata": {},
   "source": [
    "### Feature importance\n",
    "\n",
    "Another question I had in mind at first was which features would be most important to the outcome.\n",
    "Let's answer that with an feature importance table, and the resulting graph:"
   ]
  },
  {
   "cell_type": "code",
   "execution_count": 27,
   "metadata": {
    "collapsed": false
   },
   "outputs": [
    {
     "data": {
      "text/html": [
       "<div>\n",
       "<table border=\"1\" class=\"dataframe\">\n",
       "  <thead>\n",
       "    <tr style=\"text-align: right;\">\n",
       "      <th></th>\n",
       "      <th>feature</th>\n",
       "      <th>importance</th>\n",
       "    </tr>\n",
       "  </thead>\n",
       "  <tbody>\n",
       "    <tr>\n",
       "      <th>1</th>\n",
       "      <td>tempo</td>\n",
       "      <td>0.140365</td>\n",
       "    </tr>\n",
       "    <tr>\n",
       "      <th>3</th>\n",
       "      <td>acousticness</td>\n",
       "      <td>0.125107</td>\n",
       "    </tr>\n",
       "    <tr>\n",
       "      <th>0</th>\n",
       "      <td>liveness</td>\n",
       "      <td>0.115711</td>\n",
       "    </tr>\n",
       "    <tr>\n",
       "      <th>2</th>\n",
       "      <td>speechiness</td>\n",
       "      <td>0.104171</td>\n",
       "    </tr>\n",
       "    <tr>\n",
       "      <th>8</th>\n",
       "      <td>duration_ms</td>\n",
       "      <td>0.103970</td>\n",
       "    </tr>\n",
       "    <tr>\n",
       "      <th>6</th>\n",
       "      <td>danceability</td>\n",
       "      <td>0.093688</td>\n",
       "    </tr>\n",
       "    <tr>\n",
       "      <th>9</th>\n",
       "      <td>loudness</td>\n",
       "      <td>0.089968</td>\n",
       "    </tr>\n",
       "    <tr>\n",
       "      <th>7</th>\n",
       "      <td>key</td>\n",
       "      <td>0.082803</td>\n",
       "    </tr>\n",
       "    <tr>\n",
       "      <th>10</th>\n",
       "      <td>valence</td>\n",
       "      <td>0.072497</td>\n",
       "    </tr>\n",
       "    <tr>\n",
       "      <th>4</th>\n",
       "      <td>instrumentalness</td>\n",
       "      <td>0.058212</td>\n",
       "    </tr>\n",
       "    <tr>\n",
       "      <th>11</th>\n",
       "      <td>mode</td>\n",
       "      <td>0.010511</td>\n",
       "    </tr>\n",
       "    <tr>\n",
       "      <th>5</th>\n",
       "      <td>time_signature</td>\n",
       "      <td>0.002997</td>\n",
       "    </tr>\n",
       "  </tbody>\n",
       "</table>\n",
       "</div>"
      ],
      "text/plain": [
       "             feature  importance\n",
       "1              tempo    0.140365\n",
       "3       acousticness    0.125107\n",
       "0           liveness    0.115711\n",
       "2        speechiness    0.104171\n",
       "8        duration_ms    0.103970\n",
       "6       danceability    0.093688\n",
       "9           loudness    0.089968\n",
       "7                key    0.082803\n",
       "10           valence    0.072497\n",
       "4   instrumentalness    0.058212\n",
       "11              mode    0.010511\n",
       "5     time_signature    0.002997"
      ]
     },
     "execution_count": 27,
     "metadata": {},
     "output_type": "execute_result"
    }
   ],
   "source": [
    "importance = pd.DataFrame({'feature':feature_cols, 'importance':rf.feature_importances_}).sort_values('importance', ascending=False)\n",
    "importance.sort_values(\"importance\",ascending=False)"
   ]
  },
  {
   "cell_type": "code",
   "execution_count": 70,
   "metadata": {
    "collapsed": false
   },
   "outputs": [
    {
     "data": {
      "image/png": "[encoded data removed]",
      "text/plain": [
       "<matplotlib.figure.Figure at 0x11d6522d0>"
      ]
     },
     "metadata": {},
     "output_type": "display_data"
    }
   ],
   "source": [
    "importance.plot(kind=\"bar\", title=\"Feature Importance\", x=importance.feature)\n",
    "plt.title(\"Feature Importance\")\n",
    "plt.ylabel(\"Importance\")\n",
    "sns.despine()"
   ]
  },
  {
   "cell_type": "markdown",
   "metadata": {},
   "source": [
    "## 5. Use the model to predict a new observation"
   ]
  },
  {
   "cell_type": "markdown",
   "metadata": {},
   "source": [
    "We previously fit our model to our training data, let's see how our model does!"
   ]
  },
  {
   "cell_type": "code",
   "execution_count": 82,
   "metadata": {
    "collapsed": false
   },
   "outputs": [],
   "source": [
    "def rmse(predictions, targets):\n",
    "    return np.sqrt(((predictions - targets) ** 2).mean())\n",
    "\n",
    "y_train_pred = rf.predict(X_train)\n",
    "y_test_pred = rf.predict(X_test)"
   ]
  },
  {
   "cell_type": "markdown",
   "metadata": {
    "collapsed": true
   },
   "source": [
    "## 6. Evaluate the model's accuracy"
   ]
  },
  {
   "cell_type": "code",
   "execution_count": 83,
   "metadata": {
    "collapsed": true
   },
   "outputs": [],
   "source": [
    "# How good is null accuracy? Shall we guess 50% for now?\n"
   ]
  },
  {
   "cell_type": "code",
   "execution_count": 85,
   "metadata": {
    "collapsed": false
   },
   "outputs": [
    {
     "data": {
      "text/plain": [
       "25.335763918487508"
      ]
     },
     "execution_count": 85,
     "metadata": {},
     "output_type": "execute_result"
    }
   ],
   "source": [
    "# How well did the model do on training data?\n",
    "rmse(y_train, y_train_pred)"
   ]
  },
  {
   "cell_type": "code",
   "execution_count": 86,
   "metadata": {
    "collapsed": false
   },
   "outputs": [
    {
     "data": {
      "text/plain": [
       "60.742006881564265"
      ]
     },
     "execution_count": 86,
     "metadata": {},
     "output_type": "execute_result"
    }
   ],
   "source": [
    "# How well did the model do on testing data?\n",
    "rmse(y_test, y_test_pred)"
   ]
  },
  {
   "cell_type": "markdown",
   "metadata": {},
   "source": [
    "![ouch](http://i381.photobucket.com/albums/oo260/TheDemigodTraveler/GIFs/ouch.gif)"
   ]
  },
  {
   "cell_type": "markdown",
   "metadata": {},
   "source": [
    "### Tuning n-estimators"
   ]
  },
  {
   "cell_type": "markdown",
   "metadata": {},
   "source": [
    "That could've gone better. Looks like we have some **HYPERPARAMETER OPTIMIZATION** to do!"
   ]
  },
  {
   "cell_type": "code",
   "execution_count": null,
   "metadata": {
    "collapsed": true
   },
   "outputs": [],
   "source": [
    "# Let's tune the model a bit and see where that gets us.\n",
    "\n",
    "# list of values to try for n_estimators\n",
    "estimator_range = range(10, 310, 10)\n",
    "\n",
    "# list to store the average RMSE for each value of n_estimators\n",
    "RMSE_scores = []\n",
    "\n",
    "# use 5-fold cross-validation with each value of n_estimators (WARNING: SLOW!)\n",
    "for estimator in estimator_range:\n",
    "    rfreg = RandomForestRegressor(n_estimators=estimator, random_state=1)\n",
    "    MSE_scores = cross_val_score(rfreg, X, y, cv=5, scoring='mean_squared_error')\n",
    "    RMSE_scores.append(np.mean(np.sqrt(-MSE_scores)))\n",
    "    \n",
    "# plot n_estimators (x-axis) versus RMSE (y-axis)\n",
    "plt.plot(estimator_range, RMSE_scores)\n",
    "plt.xlabel('n_estimators')\n",
    "plt.ylabel('RMSE (lower is better)')"
   ]
  },
  {
   "cell_type": "code",
   "execution_count": null,
   "metadata": {
    "collapsed": true
   },
   "outputs": [],
   "source": []
  },
  {
   "cell_type": "markdown",
   "metadata": {},
   "source": [
    "### Tuning max features"
   ]
  },
  {
   "cell_type": "code",
   "execution_count": null,
   "metadata": {
    "collapsed": false
   },
   "outputs": [],
   "source": [
    "# list of values to try for max_features\n",
    "feature_range = range(1, len(feature_cols)+1)\n",
    "\n",
    "# list to store the average RMSE for each value of max_features\n",
    "RMSE_scores = []\n",
    "\n",
    "# use 10-fold cross-validation with each value of max_features (WARNING: SLOW!)\n",
    "for feature in feature_range:\n",
    "    rfreg = RandomForestRegressor(n_estimators=150, max_features=feature, random_state=1)\n",
    "    MSE_scores = cross_val_score(rfreg, X, y, cv=10, scoring='mean_squared_error')\n",
    "    RMSE_scores.append(np.mean(np.sqrt(-MSE_scores)))"
   ]
  },
  {
   "cell_type": "code",
   "execution_count": null,
   "metadata": {
    "collapsed": true
   },
   "outputs": [],
   "source": [
    "#create and train the random forest\n",
    "rf = RandomForestClassifier(n_estimators=100)\n",
    "\n",
    "X_train, X_test, y_train, y_test\n",
    "rf.fit(train, target)"
   ]
  }
 ],
 "metadata": {
  "kernelspec": {
   "display_name": "Python [Root]",
   "language": "python",
   "name": "Python [Root]"
  },
  "language_info": {
   "codemirror_mode": {
    "name": "ipython",
    "version": 2
   },
   "file_extension": ".py",
   "mimetype": "text/x-python",
   "name": "python",
   "nbconvert_exporter": "python",
   "pygments_lexer": "ipython2",
   "version": "2.7.12"
  }
 },
 "nbformat": 4,
 "nbformat_minor": 0
}
